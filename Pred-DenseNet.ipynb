{
 "cells": [
  {
   "cell_type": "markdown",
   "id": "28d90e2d-5d26-4216-bb38-d140cad726fe",
   "metadata": {},
   "source": [
    "## Prediction File\n",
    "Use this code to test individual photos or multiple photos outside of the dataset."
   ]
  },
  {
   "cell_type": "code",
   "execution_count": 15,
   "id": "27e6df79-7445-4683-89c2-7cdea2229043",
   "metadata": {},
   "outputs": [],
   "source": [
    "import tensorflow \n",
    "\n",
    "import pandas as pd\n",
    "import numpy as np\n",
    "import os\n",
    "import keras\n",
    "import random\n",
    "import cv2\n",
    "import math\n",
    "import seaborn as sns\n",
    "\n",
    "from sklearn.metrics import confusion_matrix\n",
    "from sklearn.preprocessing import LabelBinarizer\n",
    "from sklearn.model_selection import train_test_split\n",
    "\n",
    "import matplotlib.pyplot as plt\n",
    "\n",
    "from tensorflow.keras.models import load_model\n",
    "\n",
    "from tensorflow.keras.layers import Dense,GlobalAveragePooling2D,Convolution2D,BatchNormalization\n",
    "from tensorflow.keras.layers import Flatten,MaxPooling2D,Dropout\n",
    "\n",
    "from tensorflow.keras.applications import DenseNet121\n",
    "from tensorflow.keras.applications.densenet import preprocess_input\n",
    "\n",
    "from tensorflow.keras.preprocessing import image\n",
    "from tensorflow.keras.preprocessing.image import ImageDataGenerator,img_to_array, load_img\n",
    "\n",
    "from tensorflow.keras.models import Model\n",
    "\n",
    "from tensorflow.keras.optimizers import Adam\n",
    "\n",
    "from tensorflow.keras.callbacks import ModelCheckpoint, ReduceLROnPlateau\n",
    "\n",
    "import warnings\n",
    "warnings.filterwarnings(\"ignore\")"
   ]
  },
  {
   "cell_type": "code",
   "execution_count": 61,
   "id": "10dbb081-2fcd-4dfa-abe5-3d21f8621cfe",
   "metadata": {},
   "outputs": [],
   "source": [
    "input_shape = (128,128,3)\n",
    "test_model = load_model('saved_model/model-11.h5')"
   ]
  },
  {
   "cell_type": "markdown",
   "id": "b8a9800a-6c75-4ee7-91c4-97ee2cb76a89",
   "metadata": {},
   "source": [
    "#### For multiple images\n",
    "Edit directory for basedir where the images are located. *test-data* folder contains 21 photos from the DFU trainset. You can find their labels in *test-data labels.csv*."
   ]
  },
  {
   "cell_type": "code",
   "execution_count": 62,
   "id": "027ff499-a8f6-4b74-a646-1da4b85f1d55",
   "metadata": {},
   "outputs": [],
   "source": [
    "basedir = \"test-data\"\n",
    "i = 0"
   ]
  },
  {
   "cell_type": "code",
   "execution_count": 63,
   "id": "790009fb-fc3c-40e2-a417-f8f8163e1313",
   "metadata": {},
   "outputs": [],
   "source": [
    "def predict(basedir,file, model):\n",
    "    path = basedir+'/'+str(file)\n",
    "    img = load_img(path, False, target_size = (128, 128))\n",
    "    x = img_to_array(img) / 255 \n",
    "    x = np.expand_dims(x, axis=0)  \n",
    "    preds = model.predict(x)\n",
    "    return preds\n",
    "    "
   ]
  },
  {
   "cell_type": "code",
   "execution_count": 64,
   "id": "5c15f8b1-8600-4829-b109-5566b918fd27",
   "metadata": {},
   "outputs": [],
   "source": [
    "path=sorted(list(os.listdir(basedir)))"
   ]
  },
  {
   "cell_type": "code",
   "execution_count": 65,
   "id": "8afb6f16-f51f-4695-9cf7-ed70853fd356",
   "metadata": {},
   "outputs": [
    {
     "name": "stdout",
     "output_type": "stream",
     "text": [
      "not infected\n",
      "Probability: [[0.3840929]]\n",
      "\n",
      "not infected\n",
      "Probability: [[0.35615265]]\n",
      "\n",
      "not infected\n",
      "Probability: [[0.32558578]]\n",
      "\n",
      "not infected\n",
      "Probability: [[0.4098373]]\n",
      "\n",
      "not infected\n",
      "Probability: [[0.41034684]]\n",
      "\n",
      "not infected\n",
      "Probability: [[0.41619587]]\n",
      "\n",
      "not infected\n",
      "Probability: [[0.3457404]]\n",
      "\n",
      "not infected\n",
      "Probability: [[0.33397427]]\n",
      "\n",
      "infected\n",
      "Probability: [[0.5906638]]\n",
      "\n",
      "not infected\n",
      "Probability: [[0.491079]]\n",
      "\n",
      "not infected\n",
      "Probability: [[0.3536089]]\n",
      "\n",
      "infected\n",
      "Probability: [[0.56719524]]\n",
      "\n",
      "not infected\n",
      "Probability: [[0.44105312]]\n",
      "\n",
      "not infected\n",
      "Probability: [[0.44351038]]\n",
      "\n",
      "infected\n",
      "Probability: [[0.51953524]]\n",
      "\n",
      "not infected\n",
      "Probability: [[0.33334333]]\n",
      "\n",
      "not infected\n",
      "Probability: [[0.18023783]]\n",
      "\n",
      "not infected\n",
      "Probability: [[0.3343224]]\n",
      "\n",
      "not infected\n",
      "Probability: [[0.4752726]]\n",
      "\n",
      "infected\n",
      "Probability: [[0.5459556]]\n",
      "\n",
      "not infected\n",
      "Probability: [[0.37785625]]\n",
      "\n",
      "infected\n",
      "Probability: [[0.56077397]]\n",
      "\n"
     ]
    }
   ],
   "source": [
    "for i in path:\n",
    "    preds = predict(basedir, i, test_model)\n",
    "    if np.round(preds) == 0:\n",
    "        print('not infected')\n",
    "    else:\n",
    "        print('infected')\n",
    "    print('Probability: ' + str(preds) + '\\n')"
   ]
  },
  {
   "cell_type": "markdown",
   "id": "9d58e80c-d11a-4b63-bd01-eed687bea2e6",
   "metadata": {},
   "source": [
    "#### For single image\n",
    "Input the directory of the file and file name to their respective variables and run the cell. "
   ]
  },
  {
   "cell_type": "code",
   "execution_count": null,
   "id": "e661a15d-61a1-498a-8663-437b765a4cc3",
   "metadata": {},
   "outputs": [],
   "source": [
    "directory = ''\n",
    "filename = ''\n",
    "\n",
    "preds = predict(directory, filename, test_model)\n",
    "    if np.round(preds) == 0:\n",
    "        print('not infected')\n",
    "    else:\n",
    "        print('infected')\n",
    "    print('Probability: ' + str(preds) + '\\n')"
   ]
  }
 ],
 "metadata": {
  "kernelspec": {
   "display_name": "Python 3",
   "language": "python",
   "name": "python3"
  },
  "language_info": {
   "codemirror_mode": {
    "name": "ipython",
    "version": 3
   },
   "file_extension": ".py",
   "mimetype": "text/x-python",
   "name": "python",
   "nbconvert_exporter": "python",
   "pygments_lexer": "ipython3",
   "version": "3.8.10"
  }
 },
 "nbformat": 4,
 "nbformat_minor": 5
}
